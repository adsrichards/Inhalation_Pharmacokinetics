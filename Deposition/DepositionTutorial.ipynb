{
  "nbformat": 4,
  "nbformat_minor": 0,
  "metadata": {
    "colab": {
      "name": "DepositionTutorial.ipynb",
      "version": "0.3.2",
      "provenance": [],
      "collapsed_sections": []
    },
    "kernelspec": {
      "name": "python3",
      "display_name": "Python 3"
    }
  },
  "cells": [
    {
      "cell_type": "markdown",
      "metadata": {
        "id": "QchMbRB4wdGU",
        "colab_type": "text"
      },
      "source": [
        "**This will be a step-by-step construction of the particle deposition fraction density in humans following inhalation of spherical particles for a wide range of particle radii.**"
      ]
    },
    {
      "cell_type": "code",
      "metadata": {
        "id": "Lmv_vCGwyT1b",
        "colab_type": "code",
        "colab": {}
      },
      "source": [
        "#%reset\n",
        "import numpy as np\n",
        "import matplotlib.pyplot as plt"
      ],
      "execution_count": 0,
      "outputs": []
    },
    {
      "cell_type": "markdown",
      "metadata": {
        "id": "SDEjTxCVy_hd",
        "colab_type": "text"
      },
      "source": [
        "**Breathing Parameters** \\\\\n",
        "The deposition fraction depends mainly on the speed of airflow entering the trachea."
      ]
    },
    {
      "cell_type": "code",
      "metadata": {
        "id": "IJFc8SfKx3Zn",
        "colab_type": "code",
        "colab": {}
      },
      "source": [
        "BF = 15 # Breathing frequency\n",
        "VT = 15 # Tidal volume"
      ],
      "execution_count": 0,
      "outputs": []
    },
    {
      "cell_type": "markdown",
      "metadata": {
        "id": "fg6Mgh-5SWWV",
        "colab_type": "text"
      },
      "source": [
        "**Setting radius grid for 24 generations:** \\\\\n",
        "gen 1 = Extrathoracic \\\\\n",
        "gen 2 - 16 = Bronchial \\\\\n",
        "gen 17 - 24 = Alveolar"
      ]
    },
    {
      "cell_type": "code",
      "metadata": {
        "id": "N7qGTbbTRSXF",
        "colab_type": "code",
        "outputId": "02e7c7a1-6255-4b09-bf18-37a3dc9a5691",
        "colab": {
          "base_uri": "https://localhost:8080/",
          "height": 300
        }
      },
      "source": [
        "Ng = 24\n",
        "Nr = 400\n",
        "\n",
        "time = np.linspace(0, 4.0, num=Nr)\n",
        "position = [0, 100, 200, 300]\n",
        "\n",
        "plt.plot(time, np.sin(time))\n",
        "plt.xlabel('Time (hr)')\n",
        "plt.ylabel('Position (km)')"
      ],
      "execution_count": 4,
      "outputs": [
        {
          "output_type": "execute_result",
          "data": {
            "text/plain": [
              "Text(0, 0.5, 'Position (km)')"
            ]
          },
          "metadata": {
            "tags": []
          },
          "execution_count": 4
        },
        {
          "output_type": "display_data",
          "data": {
            "image/png": "[encoded data removed]",
            "text/plain": [
              "<Figure size 432x288 with 1 Axes>"
            ]
          },
          "metadata": {
            "tags": []
          }
        }
      ]
    }
  ]
}