{
  "nbformat": 4,
  "nbformat_minor": 0,
  "metadata": {
    "colab": {
      "name": "Copy of DepositionTutorial.ipynb",
      "version": "0.3.2",
      "provenance": [],
      "collapsed_sections": []
    },
    "kernelspec": {
      "name": "python3",
      "display_name": "Python 3"
    }
  },
  "cells": [
    {
      "cell_type": "markdown",
      "metadata": {
        "id": "QchMbRB4wdGU",
        "colab_type": "text"
      },
      "source": [
        "**This will be a step-by-step construction of the particle deposition fraction density in humans following inhalation of spherical particles for a wide range of particle radii.**"
      ]
    },
    {
      "cell_type": "code",
      "metadata": {
        "id": "Lmv_vCGwyT1b",
        "colab_type": "code",
        "colab": {}
      },
      "source": [
        "#%reset\n",
        "import numpy as np\n",
        "import matplotlib.pyplot as plt\n",
        "plt.rc('font', family='serif')\n",
        "import pandas as pd"
      ],
      "execution_count": 0,
      "outputs": []
    },
    {
      "cell_type": "markdown",
      "metadata": {
        "id": "umluCQHf5a2G",
        "colab_type": "text"
      },
      "source": [
        "**Anatomy** \\\\\n",
        "The anatomy is from data obtained by Weibel (1963)."
      ]
    },
    {
      "cell_type": "markdown",
      "metadata": {
        "id": "jcLQackH9ZoM",
        "colab_type": "text"
      },
      "source": [
        "Loading anatomy from file"
      ]
    },
    {
      "cell_type": "code",
      "metadata": {
        "id": "ly7X6mQmGcx8",
        "colab_type": "code",
        "outputId": "fd8d6ddf-a564-4fe6-e6eb-12be20fbb412",
        "colab": {
          "base_uri": "https://localhost:8080/",
          "height": 204
        }
      },
      "source": [
        "rawlink = \"https://raw.githubusercontent.com/ADSRichards/Inhalation_Pharmacokinetics/master/Data/Anatomy/lung_weibel.csv\";\n",
        "data_A = pd.read_csv(rawlink)\n",
        "data_A.head(5)"
      ],
      "execution_count": 0,
      "outputs": [
        {
          "output_type": "execute_result",
          "data": {
            "text/html": [
              "<div>\n",
              "<style scoped>\n",
              "    .dataframe tbody tr th:only-of-type {\n",
              "        vertical-align: middle;\n",
              "    }\n",
              "\n",
              "    .dataframe tbody tr th {\n",
              "        vertical-align: top;\n",
              "    }\n",
              "\n",
              "    .dataframe thead th {\n",
              "        text-align: right;\n",
              "    }\n",
              "</style>\n",
              "<table border=\"1\" class=\"dataframe\">\n",
              "  <thead>\n",
              "    <tr style=\"text-align: right;\">\n",
              "      <th></th>\n",
              "      <th>Generation</th>\n",
              "      <th>AvLength</th>\n",
              "      <th>AvDiameter</th>\n",
              "      <th>NumberOf</th>\n",
              "      <th>GravityAngle</th>\n",
              "      <th>BranchingAngle</th>\n",
              "    </tr>\n",
              "  </thead>\n",
              "  <tbody>\n",
              "    <tr>\n",
              "      <th>0</th>\n",
              "      <td>1</td>\n",
              "      <td>10.260</td>\n",
              "      <td>1.539</td>\n",
              "      <td>1.0</td>\n",
              "      <td>0.34907</td>\n",
              "      <td>1.66680</td>\n",
              "    </tr>\n",
              "    <tr>\n",
              "      <th>1</th>\n",
              "      <td>2</td>\n",
              "      <td>4.070</td>\n",
              "      <td>1.043</td>\n",
              "      <td>2.0</td>\n",
              "      <td>0.54105</td>\n",
              "      <td>0.97564</td>\n",
              "    </tr>\n",
              "    <tr>\n",
              "      <th>2</th>\n",
              "      <td>3</td>\n",
              "      <td>1.624</td>\n",
              "      <td>0.710</td>\n",
              "      <td>4.0</td>\n",
              "      <td>0.75049</td>\n",
              "      <td>0.57247</td>\n",
              "    </tr>\n",
              "    <tr>\n",
              "      <th>3</th>\n",
              "      <td>4</td>\n",
              "      <td>0.650</td>\n",
              "      <td>0.479</td>\n",
              "      <td>8.0</td>\n",
              "      <td>0.68068</td>\n",
              "      <td>0.33859</td>\n",
              "    </tr>\n",
              "    <tr>\n",
              "      <th>4</th>\n",
              "      <td>5</td>\n",
              "      <td>1.086</td>\n",
              "      <td>0.385</td>\n",
              "      <td>16.0</td>\n",
              "      <td>0.68068</td>\n",
              "      <td>0.70511</td>\n",
              "    </tr>\n",
              "  </tbody>\n",
              "</table>\n",
              "</div>"
            ],
            "text/plain": [
              "   Generation  AvLength  AvDiameter  NumberOf  GravityAngle  BranchingAngle\n",
              "0           1    10.260       1.539       1.0       0.34907         1.66680\n",
              "1           2     4.070       1.043       2.0       0.54105         0.97564\n",
              "2           3     1.624       0.710       4.0       0.75049         0.57247\n",
              "3           4     0.650       0.479       8.0       0.68068         0.33859\n",
              "4           5     1.086       0.385      16.0       0.68068         0.70511"
            ]
          },
          "metadata": {
            "tags": []
          },
          "execution_count": 5
        }
      ]
    },
    {
      "cell_type": "markdown",
      "metadata": {
        "id": "BCqkd9CJGhkG",
        "colab_type": "text"
      },
      "source": [
        "Setting constants of anatomy"
      ]
    },
    {
      "cell_type": "code",
      "metadata": {
        "id": "Cq6ZcjG5oLG3",
        "colab_type": "code",
        "outputId": "27722766-2672-4ec4-bfa3-12be1e02f1f9",
        "colab": {
          "base_uri": "https://localhost:8080/",
          "height": 298
        }
      },
      "source": [
        "g_i = data_A.Generation\n",
        "L_i = data_A.AvLength\n",
        "D_i = data_A.AvDiameter\n",
        "N_i = data_A.NumberOf\n",
        "ph_i = data_A.GravityAngle\n",
        "th_i = data_A.BranchingAngle\n",
        "\n",
        "A_i = []\n",
        "V_i = []\n",
        "x_i = [L_i[0]/2]\n",
        "\n",
        "for i in range(0,len(data_A)):\n",
        "    A_i.append(np.pi*D_i[i]*D_i[i]/4)\n",
        "    \n",
        "    if i > 0:\n",
        "        x_i.append(x_i[i-1] + (L_i[i-1] + L_i[i])/2)\n",
        "    \n",
        "plt.plot(x_i, A_i, \"ok\")\n",
        "plt.xlabel('Lung Depth [cm]')\n",
        "plt.ylabel('Cross-Sectional Area [cm^2]')\n",
        "\n",
        "plt.xlim(0,24)\n"
      ],
      "execution_count": 0,
      "outputs": [
        {
          "output_type": "execute_result",
          "data": {
            "text/plain": [
              "(0, 24)"
            ]
          },
          "metadata": {
            "tags": []
          },
          "execution_count": 7
        },
        {
          "output_type": "display_data",
          "data": {
            "image/png": "[encoded data removed]",
            "text/plain": [
              "<Figure size 432x288 with 1 Axes>"
            ]
          },
          "metadata": {
            "tags": []
          }
        }
      ]
    },
    {
      "cell_type": "markdown",
      "metadata": {
        "id": "SDEjTxCVy_hd",
        "colab_type": "text"
      },
      "source": [
        "**Breathing Parameters** \\\\\n",
        "The deposition fraction depends mainly on the speed of airflow entering the trachea."
      ]
    },
    {
      "cell_type": "code",
      "metadata": {
        "id": "IJFc8SfKx3Zn",
        "colab_type": "code",
        "colab": {}
      },
      "source": [
        "BF = 15 # Breathing frequency\n",
        "VT = 15 # Tidal volume\n",
        "\n",
        "t_in = 0.5*f_br\n",
        "Q_in = VT/t_in/60\n",
        "\n",
        "for i in range()\n",
        "Q_i[i] = Q_in/N_i[i]\n",
        "u_i[i] = Q_i[i]./A_i[i]/100\n",
        "t_i[i] = V_i[i]/N_i[i]/Q_i[i]*60"
      ],
      "execution_count": 0,
      "outputs": []
    },
    {
      "cell_type": "markdown",
      "metadata": {
        "id": "NIZMzqdHpRI8",
        "colab_type": "text"
      },
      "source": [
        "Building parameters for deposition"
      ]
    },
    {
      "cell_type": "code",
      "metadata": {
        "id": "eNHeAh42Txev",
        "colab_type": "code",
        "colab": {}
      },
      "source": [
        "# drug specific \n",
        "po = 1000\n",
        "\n",
        "# thermodynamics\n",
        "kB = 1.38e-23 # Boltzmann's constant [(kg m^2/s^2)/K]\n",
        "kT = kB*(273.15 + 37.5) # Body temp in units of energy [kg m^2/s^2]\n",
        "eta = 1.922e-5 # viscosity of air at body temp [kg s/m]\n",
        "pa = 1.1372 # density of air at body temp [kg/m^3]\n",
        "ell = 0.066e-6 # mean free path of air molecules at body temp [m]\n",
        "\n",
        "# impaction specific\n",
        "\n",
        "# gravity specific\n",
        "g = 9.81 # gravitational acceleration [m/s^2]\n",
        "\n",
        "# diffusion specific"
      ],
      "execution_count": 0,
      "outputs": []
    }
  ]
}