{
  "nbformat": 4,
  "nbformat_minor": 0,
  "metadata": {
    "colab": {
      "name": "DepositionExample.ipynb",
      "version": "0.3.2",
      "provenance": [],
      "collapsed_sections": []
    },
    "kernelspec": {
      "name": "python3",
      "display_name": "Python 3"
    }
  },
  "cells": [
    {
      "cell_type": "markdown",
      "metadata": {
        "id": "QchMbRB4wdGU",
        "colab_type": "text"
      },
      "source": [
        "**This will be a step-by-step construction of the particle deposition fraction density in humans following inhalation of spherical particles for a wide range of particle radii.**"
      ]
    },
    {
      "cell_type": "code",
      "metadata": {
        "id": "Lmv_vCGwyT1b",
        "colab_type": "code",
        "colab": {}
      },
      "source": [
        "#%reset\n",
        "import numpy as np\n",
        "import matplotlib.pyplot as plt\n",
        "plt.rc('font', family='serif')\n",
        "import pandas as pd"
      ],
      "execution_count": 0,
      "outputs": []
    },
    {
      "cell_type": "markdown",
      "metadata": {
        "id": "umluCQHf5a2G",
        "colab_type": "text"
      },
      "source": [
        "**Anatomy** \\\\\n",
        "The anatomy is from data obtained by Weibel (1963)."
      ]
    },
    {
      "cell_type": "markdown",
      "metadata": {
        "id": "jcLQackH9ZoM",
        "colab_type": "text"
      },
      "source": [
        "Loading anatomy from file"
      ]
    },
    {
      "cell_type": "code",
      "metadata": {
        "id": "ly7X6mQmGcx8",
        "colab_type": "code",
        "colab": {}
      },
      "source": [
        "rawlink = \"https://raw.githubusercontent.com/ADSRichards/Inhalation_Pharmacokinetics/master/Data/Anatomy/lung_weibel.csv\";\n",
        "data_A = pd.read_csv(rawlink)\n",
        "data_A.head(5)\n",
        "\n",
        "Ng = len(data_A) # number of generations"
      ],
      "execution_count": 0,
      "outputs": []
    },
    {
      "cell_type": "markdown",
      "metadata": {
        "id": "BCqkd9CJGhkG",
        "colab_type": "text"
      },
      "source": [
        "Setting constants of anatomy"
      ]
    },
    {
      "cell_type": "code",
      "metadata": {
        "id": "Cq6ZcjG5oLG3",
        "colab_type": "code",
        "outputId": "6974fd6d-4632-4df6-8738-03684c1375b6",
        "colab": {
          "base_uri": "https://localhost:8080/",
          "height": 298
        }
      },
      "source": [
        "g_i = data_A.Generation # generation number\n",
        "L_i = data_A.AvLength # average length of an airway [m]\n",
        "D_i = data_A.AvDiameter # average diameter of an airway [m]\n",
        "N_i = data_A.NumberOf # number of airways of a generation\n",
        "ph_i = data_A.GravityAngle # angle between two airways at gen n+1 which have branched from gen n.\n",
        "th_i = data_A.BranchingAngle\n",
        "\n",
        "A_i = []\n",
        "V_i = []\n",
        "x_i = [L_i[0]/2]\n",
        "\n",
        "for i in range(0,len(data_A)):\n",
        "    A_i.append(np.pi*D_i[i]*D_i[i]/4)\n",
        "    \n",
        "    if i > 0:\n",
        "        x_i.append(x_i[i-1] + (L_i[i-1] + L_i[i])/2)\n",
        "    \n",
        "plt.plot(x_i, A_i, \"ok\")\n",
        "plt.xlabel('Lung Depth [cm]')\n",
        "plt.ylabel('Cross-Sectional Area [cm^2]')\n",
        "\n",
        "plt.xlim(0,24)\n"
      ],
      "execution_count": 36,
      "outputs": [
        {
          "output_type": "execute_result",
          "data": {
            "text/plain": [
              "(0, 24)"
            ]
          },
          "metadata": {
            "tags": []
          },
          "execution_count": 36
        },
        {
          "output_type": "display_data",
          "data": {
            "image/png": "[encoded data removed]",
            "text/plain": [
              "<Figure size 432x288 with 1 Axes>"
            ]
          },
          "metadata": {
            "tags": []
          }
        }
      ]
    },
    {
      "cell_type": "markdown",
      "metadata": {
        "id": "SDEjTxCVy_hd",
        "colab_type": "text"
      },
      "source": [
        "**Breathing Parameters** \\\\\n",
        "The deposition fraction depends mainly on the speed of airflow entering the trachea."
      ]
    },
    {
      "cell_type": "code",
      "metadata": {
        "id": "IJFc8SfKx3Zn",
        "colab_type": "code",
        "colab": {
          "base_uri": "https://localhost:8080/",
          "height": 281
        },
        "outputId": "c086a8fa-8fe4-460c-9fd0-b4419a4cd442"
      },
      "source": [
        "BF = 15 # Breathing frequency\n",
        "VT = 1000 # Tidal volume\n",
        "\n",
        "t_in = 0.5*BF\n",
        "Q_in = VT/t_in/60\n",
        "\n",
        "Q_i = []\n",
        "u_i = []\n",
        "V_i = []\n",
        "t_i = []\n",
        "\n",
        "for i in range(0,Ng):\n",
        "    Q_i.append(Q_in/N_i[i])\n",
        "    u_i.append(Q_i[i]/A_i[i]/100)\n",
        "    V_i.append(A_i[i]/100*L_i[i]/100)\n",
        "    t_i.append(V_i[i]/N_i[i]/Q_i[i]*60)\n",
        "    \n",
        "plt.plot(g_i, t_i, \"ok\");\n",
        "plt.xlabel('Lung Depth [cm]');\n",
        "plt.ylabel('Cross-Sectional Area [cm^2]');\n",
        "\n",
        "plt.xlim(0,24);"
      ],
      "execution_count": 40,
      "outputs": [
        {
          "output_type": "display_data",
          "data": {
            "image/png": "[encoded data removed]",
            "text/plain": [
              "<Figure size 432x288 with 1 Axes>"
            ]
          },
          "metadata": {
            "tags": []
          }
        }
      ]
    },
    {
      "cell_type": "markdown",
      "metadata": {
        "id": "MS1ua6lNIi-b",
        "colab_type": "text"
      },
      "source": [
        "Setting grid of possible particle diameters which may be inhaled"
      ]
    },
    {
      "cell_type": "code",
      "metadata": {
        "id": "c-0PgNyAIjMS",
        "colab_type": "code",
        "colab": {}
      },
      "source": [
        "Nd = 400\n",
        "dmin = 1.5e-9\n",
        "dmax = 2.0e-4\n",
        "d = np.logspace(np.log10(dmin),np.log10(dmax),Nd) # PARTICLE diameter grid [m]"
      ],
      "execution_count": 0,
      "outputs": []
    },
    {
      "cell_type": "markdown",
      "metadata": {
        "id": "NIZMzqdHpRI8",
        "colab_type": "text"
      },
      "source": [
        "Building parameters for deposition"
      ]
    },
    {
      "cell_type": "code",
      "metadata": {
        "id": "eNHeAh42Txev",
        "colab_type": "code",
        "colab": {}
      },
      "source": [
        "# drug specific \n",
        "po = 1000\n",
        "\n",
        "# thermodynamics\n",
        "kB = 1.38e-23 # Boltzmann's constant [(kg m^2/s^2)/K]\n",
        "kT = kB*(273.15 + 37.5) # Body temp in units of energy [kg m^2/s^2]\n",
        "eta = 1.922e-5 # viscosity of air at body temp [kg s/m]\n",
        "pa = 1.1372 # density of air at body temp [kg/m^3]\n",
        "ell = 0.066e-6 # mean free path of air molecules at body temp [m]\n",
        "\n",
        "# Cunningham slip correction factor (for diffusion and sedimentation)\n",
        "Cd = []\n",
        "for di in range(0,Nd):\n",
        "    Cd.append( 1 + ell/d[di]*(2.514 + 0.8*np.exp(pow(-0.55,d[di]/ell))) )\n",
        "\n",
        "\n",
        "# impaction specific\n",
        "#stk = []\n",
        "#for gi in range(0,Ng):\n",
        "#  stki = []\n",
        "#  for di in range(0,Nd):\n",
        "#      stki.append(Cd[di]*(po*d[di]*d[di]*u_i[gi]/(9*eta*D_i[gi])))\n",
        "\n",
        "\n",
        "\n",
        "# gravity specific\n",
        "g = 9.81 # gravitational acceleration [m/s^2]\n",
        "\n",
        "# diffusion specific"
      ],
      "execution_count": 0,
      "outputs": []
    }
  ]
}